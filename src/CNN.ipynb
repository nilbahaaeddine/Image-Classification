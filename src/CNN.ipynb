{
 "cells": [
  {
   "cell_type": "markdown",
   "metadata": {},
   "source": [
    "<div class=\"alert alert-block alert-info\" align=\"center\">\n",
    "    <h1>\n",
    "        Imports\n",
    "    </h1>\n",
    "</div>"
   ]
  },
  {
   "cell_type": "code",
   "execution_count": 1,
   "metadata": {},
   "outputs": [],
   "source": [
    "import numpy as np\n",
    "import pandas as pd\n",
    "import matplotlib.pyplot as plt\n",
    "import mnist"
   ]
  },
  {
   "cell_type": "markdown",
   "metadata": {},
   "source": [
    "<div class=\"alert alert-block alert-info\" align=\"center\">\n",
    "    <h1>\n",
    "        Déclarations\n",
    "    </h1>\n",
    "</div>"
   ]
  },
  {
   "cell_type": "code",
   "execution_count": 2,
   "metadata": {},
   "outputs": [],
   "source": [
    "class Conv3x3:\n",
    "    # A Convolution layer using 3x3 filters.\n",
    "\n",
    "    def __init__(self, num_filters):\n",
    "        self.num_filters = num_filters\n",
    "\n",
    "        # filters is a 3d array with dimensions (num_filters, 3, 3)\n",
    "        # We divide by 9 to reduce the variance of our initial values\n",
    "        self.filters = np.random.randn(num_filters, 3, 3) / 9\n",
    "\n",
    "    def iterate_regions(self, image):\n",
    "        '''\n",
    "        Generates all possible 3x3 image regions using valid padding.\n",
    "        - image is a 2d numpy array\n",
    "        '''\n",
    "        h, w = image.shape\n",
    "\n",
    "        for i in range(h - 2):\n",
    "            for j in range(w - 2):\n",
    "                im_region = image[i:(i + 3), j:(j + 3)]\n",
    "                yield im_region, i, j\n",
    "\n",
    "    def forward(self, input):\n",
    "        '''\n",
    "        Performs a forward pass of the conv layer using the given input.\n",
    "        Returns a 3d numpy array with dimensions (h, w, num_filters).\n",
    "        - input is a 2d numpy array\n",
    "        '''\n",
    "        h, w = input.shape\n",
    "        output = np.zeros((h - 2, w - 2, self.num_filters))\n",
    "\n",
    "        for im_region, i, j in self.iterate_regions(input):\n",
    "            output[i, j] = np.sum(im_region * self.filters, axis=(1, 2))\n",
    "\n",
    "        return output\n",
    "\n",
    "class MaxPool2:\n",
    "    # A Max Pooling layer using a pool size of 2.\n",
    "\n",
    "    def iterate_regions(self, image):\n",
    "        '''\n",
    "        Generates non-overlapping 2x2 image regions to pool over.\n",
    "        - image is a 2d numpy array\n",
    "        '''\n",
    "        h, w, _ = image.shape\n",
    "        new_h = h // 2\n",
    "        new_w = w // 2\n",
    "\n",
    "        for i in range(new_h):\n",
    "            for j in range(new_w):\n",
    "                im_region = image[(i * 2):(i * 2 + 2), (j * 2):(j * 2 + 2)]\n",
    "                yield im_region, i, j\n",
    "\n",
    "    def forward(self, input):\n",
    "        '''\n",
    "        Performs a forward pass of the maxpool layer using the given input.\n",
    "        Returns a 3d numpy array with dimensions (h / 2, w / 2, num_filters).\n",
    "        - input is a 3d numpy array with dimensions (h, w, num_filters)\n",
    "        '''\n",
    "        h, w, num_filters = input.shape\n",
    "        output = np.zeros((h // 2, w // 2, num_filters))\n",
    "\n",
    "        for im_region, i, j in self.iterate_regions(input):\n",
    "            output[i, j] = np.amax(im_region, axis=(0, 1))\n",
    "\n",
    "        return output"
   ]
  },
  {
   "cell_type": "markdown",
   "metadata": {},
   "source": [
    "<div class=\"alert alert-block alert-info\" align=\"center\">\n",
    "    <h1>\n",
    "        Applications\n",
    "    </h1>\n",
    "</div>"
   ]
  },
  {
   "cell_type": "code",
   "execution_count": 3,
   "metadata": {
    "scrolled": false
   },
   "outputs": [
    {
     "name": "stdout",
     "output_type": "stream",
     "text": [
      "MNIST CNN initialized !\n",
      "\n",
      "Step 10/100 Past 100 steps :\n",
      "Data :\n",
      "[ 0.22255609 -0.08159992 -0.17939323 ...  0.28319202  0.03369086\n",
      " -0.05999865]\n",
      "Image :\n"
     ]
    },
    {
     "data": {
      "image/png": "[encoded data removed]",
      "text/plain": [
       "<Figure size 432x288 with 1 Axes>"
      ]
     },
     "metadata": {
      "needs_background": "light"
     },
     "output_type": "display_data"
    },
    {
     "name": "stdout",
     "output_type": "stream",
     "text": [
      "\n",
      "Step 20/100 Past 100 steps :\n",
      "Data :\n",
      "[ 0.22255609 -0.08159992 -0.17939323 ...  0.28319202  0.03369086\n",
      " -0.05999865]\n",
      "Image :\n"
     ]
    },
    {
     "data": {
      "image/png": "[encoded data removed]",
      "text/plain": [
       "<Figure size 432x288 with 1 Axes>"
      ]
     },
     "metadata": {
      "needs_background": "light"
     },
     "output_type": "display_data"
    },
    {
     "name": "stdout",
     "output_type": "stream",
     "text": [
      "\n",
      "Step 30/100 Past 100 steps :\n",
      "Data :\n",
      "[ 0.22255609 -0.08159992 -0.17939323 ...  0.28319202  0.03369086\n",
      " -0.05999865]\n",
      "Image :\n"
     ]
    },
    {
     "data": {
      "image/png": "[encoded data removed]",
      "text/plain": [
       "<Figure size 432x288 with 1 Axes>"
      ]
     },
     "metadata": {
      "needs_background": "light"
     },
     "output_type": "display_data"
    },
    {
     "name": "stdout",
     "output_type": "stream",
     "text": [
      "\n",
      "Step 40/100 Past 100 steps :\n",
      "Data :\n",
      "[ 0.22255609 -0.08159992 -0.17939323 ...  0.28319202  0.03369086\n",
      " -0.05999865]\n",
      "Image :\n"
     ]
    },
    {
     "data": {
      "image/png": "[encoded data removed]",
      "text/plain": [
       "<Figure size 432x288 with 1 Axes>"
      ]
     },
     "metadata": {
      "needs_background": "light"
     },
     "output_type": "display_data"
    },
    {
     "name": "stdout",
     "output_type": "stream",
     "text": [
      "\n",
      "Step 50/100 Past 100 steps :\n",
      "Data :\n",
      "[ 0.22255609 -0.08159992 -0.17939323 ...  0.28319202  0.03369086\n",
      " -0.05999865]\n",
      "Image :\n"
     ]
    },
    {
     "data": {
      "image/png": "[encoded data removed]",
      "text/plain": [
       "<Figure size 432x288 with 1 Axes>"
      ]
     },
     "metadata": {
      "needs_background": "light"
     },
     "output_type": "display_data"
    },
    {
     "name": "stdout",
     "output_type": "stream",
     "text": [
      "\n",
      "Step 60/100 Past 100 steps :\n",
      "Data :\n",
      "[ 0.22255609 -0.08159992 -0.17939323 ...  0.28319202  0.03369086\n",
      " -0.05999865]\n",
      "Image :\n"
     ]
    },
    {
     "data": {
      "image/png": "[encoded data removed]",
      "text/plain": [
       "<Figure size 432x288 with 1 Axes>"
      ]
     },
     "metadata": {
      "needs_background": "light"
     },
     "output_type": "display_data"
    },
    {
     "name": "stdout",
     "output_type": "stream",
     "text": [
      "\n",
      "Step 70/100 Past 100 steps :\n",
      "Data :\n",
      "[ 0.22255609 -0.08159992 -0.17939323 ...  0.28319202  0.03369086\n",
      " -0.05999865]\n",
      "Image :\n"
     ]
    },
    {
     "data": {
      "image/png": "[encoded data removed]",
      "text/plain": [
       "<Figure size 432x288 with 1 Axes>"
      ]
     },
     "metadata": {
      "needs_background": "light"
     },
     "output_type": "display_data"
    },
    {
     "name": "stdout",
     "output_type": "stream",
     "text": [
      "\n",
      "Step 80/100 Past 100 steps :\n",
      "Data :\n",
      "[ 0.22255609 -0.08159992 -0.17939323 ...  0.28319202  0.03369086\n",
      " -0.05999865]\n",
      "Image :\n"
     ]
    },
    {
     "data": {
      "image/png": "[encoded data removed]",
      "text/plain": [
       "<Figure size 432x288 with 1 Axes>"
      ]
     },
     "metadata": {
      "needs_background": "light"
     },
     "output_type": "display_data"
    },
    {
     "name": "stdout",
     "output_type": "stream",
     "text": [
      "\n",
      "Step 90/100 Past 100 steps :\n",
      "Data :\n",
      "[ 0.22255609 -0.08159992 -0.17939323 ...  0.28319202  0.03369086\n",
      " -0.05999865]\n",
      "Image :\n"
     ]
    },
    {
     "data": {
      "image/png": "[encoded data removed]",
      "text/plain": [
       "<Figure size 432x288 with 1 Axes>"
      ]
     },
     "metadata": {
      "needs_background": "light"
     },
     "output_type": "display_data"
    },
    {
     "name": "stdout",
     "output_type": "stream",
     "text": [
      "\n",
      "Step 100/100 Past 100 steps :\n",
      "Data :\n",
      "[ 0.22255609 -0.08159992 -0.17939323 ...  0.28319202  0.03369086\n",
      " -0.05999865]\n",
      "Image :\n"
     ]
    },
    {
     "data": {
      "image/png": "[encoded data removed]",
      "text/plain": [
       "<Figure size 432x288 with 1 Axes>"
      ]
     },
     "metadata": {
      "needs_background": "light"
     },
     "output_type": "display_data"
    }
   ],
   "source": [
    "# We only use the first 1k testing examples (out of 10k total)\n",
    "# in the interest of time. Feel free to change this if you want.\n",
    "test_images = mnist.test_images()[:100]\n",
    "test_labels = mnist.test_labels()[:100]\n",
    "\n",
    "conv = Conv3x3(8)                  # 28x28x1 -> 26x26x8\n",
    "pool = MaxPool2()                  # 26x26x8 -> 13x13x8\n",
    "\n",
    "def forward(image, label):\n",
    "    '''\n",
    "    Completes a forward pass of the CNN and calculates the accuracy and\n",
    "    cross-entropy loss.\n",
    "    - image is a 2d numpy array\n",
    "    - label is a digit\n",
    "    '''\n",
    "    # We transform the image from [0, 255] to [-0.5, 0.5] to make it easier\n",
    "    # to work with. This is standard practice.\n",
    "    outConv = conv.forward((image / 255) - 0.5)\n",
    "    #print(f'La sortie du outConv :\\n{outConv}')\n",
    "    outPool = pool.forward(outConv)\n",
    "    #print(f'La sortie du outPool :\\n{outPool}')\n",
    "    outFlat = outPool.flatten()\n",
    "    #print(f'La sortie du outFlat :\\n{outFlat}')\n",
    "\n",
    "    return outFlat\n",
    "\n",
    "print('MNIST CNN initialized !')\n",
    "\n",
    "array = []\n",
    "loss = 0\n",
    "num_correct = 0\n",
    "file = open(\"csv/MNN.csv\", \"w+\")\n",
    "for i, (im, label) in enumerate(zip(test_images, test_labels)):\n",
    "    # Do a forward pass.\n",
    "    output = forward(im, label) #Ajouter le label au csv\n",
    "\n",
    "    # Print stats every 100 steps.\n",
    "    if i % 10 == 9:\n",
    "        print(f'\\nStep {i+1}/100 Past 100 steps :')\n",
    "        print(f'Data :')\n",
    "        print(output)\n",
    "        print(f'Image :')\n",
    "        plt.imshow(im)\n",
    "        plt.show()\n",
    "        array.append(output)\n",
    "df = pd.DataFrame(array)\n",
    "df.to_csv(\"csv/MNN.csv\", sep=\";\")\n",
    "file.close()"
   ]
  }
 ],
 "metadata": {
  "kernelspec": {
   "display_name": "Python 3",
   "language": "python",
   "name": "python3"
  },
  "language_info": {
   "codemirror_mode": {
    "name": "ipython",
    "version": 3
   },
   "file_extension": ".py",
   "mimetype": "text/x-python",
   "name": "python",
   "nbconvert_exporter": "python",
   "pygments_lexer": "ipython3",
   "version": "3.7.4"
  }
 },
 "nbformat": 4,
 "nbformat_minor": 2
}
