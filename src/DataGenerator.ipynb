{
 "cells": [
  {
   "cell_type": "markdown",
   "metadata": {},
   "source": [
    "<div class=\"alert alert-block alert-info\" align=\"center\">\n",
    "    <h1>\n",
    "        Imports\n",
    "    </h1>\n",
    "</div>"
   ]
  },
  {
   "cell_type": "code",
   "execution_count": null,
   "metadata": {},
   "outputs": [],
   "source": [
    "import numpy as np\n",
    "import matplotlib.pyplot as plt\n",
    "import tensorflow as tf\n",
    "\n",
    "from tensorflow.keras.preprocessing.image import random_shift, random_shear, random_rotation, random_zoom\n",
    "from keras.datasets import mnist, fashion_mnist, cifar10\n",
    "from keras.utils import to_categorical\n",
    "from keras.preprocessing.image import ImageDataGenerator"
   ]
  },
  {
   "cell_type": "markdown",
   "metadata": {},
   "source": [
    "<div class=\"alert alert-block alert-info\" align=\"center\">\n",
    "    <h1>\n",
    "        Functions\n",
    "    </h1>\n",
    "</div>"
   ]
  },
  {
   "cell_type": "code",
   "execution_count": null,
   "metadata": {},
   "outputs": [],
   "source": [
    "def plot_images(imgs, labels=None, rows=1, figsize=(20,8), fontsize=14):\n",
    "    figure = plt.figure(figsize=figsize)\n",
    "    cols = max(1,len(imgs) // rows-1)\n",
    "    labels_present = False\n",
    "    # checking if labels is a numpy array\n",
    "    if type(labels).__module__ == np.__name__:\n",
    "        labels_present=labels.any()\n",
    "    elif labels:\n",
    "        labels_present=True\n",
    "    for i in range(len(imgs)):\n",
    "        subplot = figure.add_subplot(rows, cols+1, i+1)\n",
    "        # axis off, but leave a bounding box\n",
    "        plt.tick_params(\n",
    "            axis='both',\n",
    "            which='both',\n",
    "            bottom='off',\n",
    "            top='off',\n",
    "            left='off',\n",
    "            right='off',\n",
    "            labelbottom='off',\n",
    "            labelleft='off')\n",
    "        # plot labels if present\n",
    "        if labels_present:\n",
    "            subplot.set_title(labels[i], fontsize=fontsize)\n",
    "        plt.imshow(imgs[i][:,:,0], cmap = 'Greys')\n",
    "        \n",
    "    plt.show()\n",
    "\n",
    "# Extract n random samples of each class from the dataset\n",
    "def get_random_sample(number_of_samples, data, labels):\n",
    "    x = []\n",
    "    y = []\n",
    "    for category_number in range(0,10):\n",
    "        # get all samples of a category\n",
    "        train_data_category = data[labels == category_number]\n",
    "        # pick a number of random samples from the category\n",
    "        train_data_category = train_data_category[np.random.randint(train_data_category.shape[0], \n",
    "                                                                    size = number_of_samples), :]\n",
    "        x.extend(train_data_category)\n",
    "        y.append([category_number]*number_of_samples)\n",
    "    \n",
    "    return np.asarray(x).reshape(-1, 28, 28, 1), y"
   ]
  },
  {
   "cell_type": "markdown",
   "metadata": {},
   "source": [
    "<div class=\"alert alert-block alert-info\" align=\"center\">\n",
    "    <h1>\n",
    "        Generating data\n",
    "    </h1>\n",
    "</div>"
   ]
  },
  {
   "cell_type": "markdown",
   "metadata": {},
   "source": [
    "<div align=\"center\"><h1> Generating fashion mnist data </h1></div>"
   ]
  },
  {
   "cell_type": "code",
   "execution_count": null,
   "metadata": {},
   "outputs": [],
   "source": [
    "# Reading data\n",
    "(X_train, y_train), (X_test, y_test) = fashion_mnist.load_data()\n",
    "\n",
    "# Getting n sample from each category\n",
    "X_rand, y_rand = get_random_sample(1, X_train, y_train)\n",
    "\n",
    "# Convert class vectors to binary class matrices\n",
    "y_rand = to_categorical(y_rand)\n",
    "    \n",
    "plot_images(X_rand, rows=10, figsize=(20,20))"
   ]
  },
  {
   "cell_type": "code",
   "execution_count": null,
   "metadata": {},
   "outputs": [],
   "source": [
    "image = X_rand[0]\n",
    "\n",
    "datagen = ImageDataGenerator(rotation_range=20, \n",
    "                             width_shift_range=0.1, \n",
    "                             height_shift_range=0.1, \n",
    "                             shear_range=0.5, \n",
    "                             zoom_range=(0.9, 1.1), \n",
    "                             horizontal_flip=False, \n",
    "                             vertical_flip=False, \n",
    "                             fill_mode='constant', \n",
    "                             cval=0\n",
    "                            )\n",
    "\n",
    "batches = 0\n",
    "max_batches = 10\n",
    "img_gen = []\n",
    "\n",
    "for x_batch in datagen.flow(image.reshape((1,) + image.shape), batch_size = max_batches):\n",
    "    img_gen.append(x_batch[0])\n",
    "    batches += 1\n",
    "    if batches >= max_batches:\n",
    "        # generator loops indefinetly\n",
    "        break\n",
    "        \n",
    "plot_images(img_gen, rows=10, figsize=(20,16))"
   ]
  }
 ],
 "metadata": {
  "kernelspec": {
   "display_name": "Python 3",
   "language": "python",
   "name": "python3"
  },
  "language_info": {
   "codemirror_mode": {
    "name": "ipython",
    "version": 3
   },
   "file_extension": ".py",
   "mimetype": "text/x-python",
   "name": "python",
   "nbconvert_exporter": "python",
   "pygments_lexer": "ipython3",
   "version": "3.7.4"
  }
 },
 "nbformat": 4,
 "nbformat_minor": 2
}
