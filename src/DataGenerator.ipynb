{
 "cells": [
  {
   "cell_type": "markdown",
   "metadata": {},
   "source": [
    "<div class=\"alert alert-block alert-info\" align=\"center\">\n",
    "    <h1>\n",
    "        Imports\n",
    "    </h1>\n",
    "</div>"
   ]
  },
  {
   "cell_type": "code",
   "execution_count": null,
   "metadata": {},
   "outputs": [],
   "source": [
    "import numpy as np\n",
    "import matplotlib.pyplot as plt\n",
    "import tensorflow as tf\n",
    "\n",
    "from tensorflow.keras.preprocessing.image import random_shift, random_shear, random_rotation, random_zoom\n",
    "from keras.datasets import fashion_mnist\n",
    "from keras.utils import to_categorical\n",
    "from keras.preprocessing.image import ImageDataGenerator"
   ]
  },
  {
   "cell_type": "markdown",
   "metadata": {},
   "source": [
    "<div class=\"alert alert-block alert-info\" align=\"center\">\n",
    "    <h1>\n",
    "        Functions\n",
    "    </h1>\n",
    "</div>"
   ]
  },
  {
   "cell_type": "code",
   "execution_count": null,
   "metadata": {},
   "outputs": [],
   "source": [
    "def plot_images(imgs, labels=None, rows=1, figsize=(20,8), fontsize=14):\n",
    "    figure = plt.figure(figsize=figsize)\n",
    "    cols = max(1,len(imgs) // rows-1)\n",
    "    labels_present = False\n",
    "    # checking if labels is a numpy array\n",
    "    if type(labels).__module__ == np.__name__:\n",
    "        labels_present=labels.any()\n",
    "    elif labels:\n",
    "        labels_present=True\n",
    "    for i in range(len(imgs)):\n",
    "        subplot = figure.add_subplot(rows, cols+1, i+1)\n",
    "        # axis off, but leave a bounding box\n",
    "        plt.tick_params(\n",
    "            axis='both',\n",
    "            which='both',\n",
    "            bottom='off',\n",
    "            top='off',\n",
    "            left='off',\n",
    "            right='off',\n",
    "            labelbottom='off',\n",
    "            labelleft='off')\n",
    "        # plot labels if present\n",
    "        if labels_present:\n",
    "            subplot.set_title(labels[i], fontsize=fontsize)\n",
    "        plt.imshow(imgs[i][:,:,0], cmap='Greys')\n",
    "        \n",
    "    plt.show()\n",
    "\n",
    "# Extract n random samples of each class from the dataset\n",
    "def get_random_sample(number_of_samples=10):\n",
    "    x = []\n",
    "    y = []\n",
    "    for category_number in range(0,10):\n",
    "        # get all samples of a category\n",
    "        train_data_category = train_data[train_labels==category_number]\n",
    "        # pick a number of random samples from the category\n",
    "        train_data_category = train_data_category[np.random.randint(train_data_category.shape[0], \n",
    "                                                                    size=number_of_samples), :]\n",
    "        x.extend(train_data_category)\n",
    "        y.append([category_number]*number_of_samples)\n",
    "    \n",
    "    return np.asarray(x).reshape(-1, 28, 28, 1), y"
   ]
  },
  {
   "cell_type": "markdown",
   "metadata": {},
   "source": [
    "<div class=\"alert alert-block alert-info\" align=\"center\">\n",
    "    <h1>\n",
    "        Generating data\n",
    "    </h1>\n",
    "</div>"
   ]
  },
  {
   "cell_type": "code",
   "execution_count": null,
   "metadata": {},
   "outputs": [],
   "source": [
    "(raw_train_data, raw_train_labels), (raw_test_data, raw_test_labels) = fashion_mnist.load_data()\n",
    "\n",
    "# normalizing\n",
    "test_data = np.asarray(raw_test_data / 255.0 , dtype=float)\n",
    "train_data = np.asarray(raw_train_data / 255.0 , dtype=float)\n",
    "test_labels= np.asarray(raw_test_labels , dtype=np.int32)\n",
    "train_labels = np.asarray(raw_train_labels , dtype=np.int32)"
   ]
  },
  {
   "cell_type": "code",
   "execution_count": null,
   "metadata": {},
   "outputs": [],
   "source": [
    "x_ten_samples, y_ten_samples = get_random_sample(number_of_samples=5)\n",
    " \n",
    "y_ten_samples = to_categorical(y_ten_samples)\n",
    "    \n",
    "print(np.shape(x_ten_samples))\n",
    "print(np.shape(y_ten_samples))\n",
    "plot_images(x_ten_samples, rows=10, figsize=(20,20))"
   ]
  },
  {
   "cell_type": "code",
   "execution_count": null,
   "metadata": {},
   "outputs": [],
   "source": [
    "print(np.shape(train_data))\n",
    "print(np.shape(train_labels))\n",
    "\n",
    "# reshape the images to 4D tensors\n",
    "x_train_data = train_data.reshape(-1, 28, 28, 1)\n",
    "y_train_data = to_categorical(train_labels)\n",
    " \n",
    "print(np.shape(x_train_data))\n",
    "print(np.shape(y_train_data))\n",
    " \n",
    "x_test_data = test_data.reshape(-1, 28, 28, 1)\n",
    "y_test_data = to_categorical(test_labels)\n",
    "print(np.shape(x_test_data))\n",
    "print(np.shape(y_test_data))"
   ]
  },
  {
   "cell_type": "code",
   "execution_count": null,
   "metadata": {},
   "outputs": [],
   "source": [
    "img = x_ten_samples[1]\n",
    "plot_images([img])"
   ]
  },
  {
   "cell_type": "code",
   "execution_count": null,
   "metadata": {},
   "outputs": [],
   "source": [
    "img_shifted = [ random_shift(\n",
    "    img, \n",
    "    wrg=0.1, \n",
    "    hrg=0.2, \n",
    "    row_axis=0, \n",
    "    col_axis=1, \n",
    "    channel_axis=2, \n",
    "    fill_mode='constant',\n",
    "    cval=0\n",
    ") for _ in range(5) ]\n",
    "plot_images(img_shifted)\n",
    "\n",
    "img_rotated = [ random_rotation(\n",
    "    img, \n",
    "    20, \n",
    "    row_axis=0, \n",
    "    col_axis=1, \n",
    "    channel_axis=2, \n",
    "        fill_mode='constant',\n",
    "    cval=0\n",
    ") for _ in range(5) ]\n",
    "plot_images(img_rotated)\n",
    "\n",
    "img_sheared = [ random_shear(\n",
    "    img,\n",
    "    intensity=0.5,\n",
    "    row_axis=0,\n",
    "    col_axis=1,\n",
    "    channel_axis=2,\n",
    "    fill_mode='constant',\n",
    "    cval=0\n",
    ") for _ in range(5) ]\n",
    "plot_images(img_sheared)\n",
    "\n",
    "img_zoomed = [ random_zoom(\n",
    "    img,\n",
    "    zoom_range=(0.7,1.3),\n",
    "    row_axis=0,\n",
    "    col_axis=1,\n",
    "    channel_axis=2,\n",
    "    fill_mode='constant',\n",
    "    cval=0\n",
    ") for _ in range(5) ]\n",
    "plot_images(img_zoomed)"
   ]
  },
  {
   "cell_type": "code",
   "execution_count": null,
   "metadata": {},
   "outputs": [],
   "source": [
    "datagen = ImageDataGenerator(\n",
    "        rotation_range=20,\n",
    "        width_shift_range=0.1,\n",
    "        height_shift_range=0.1,\n",
    "        shear_range=0.5,\n",
    "        zoom_range=(0.9, 1.1),\n",
    "        horizontal_flip=False,\n",
    "        vertical_flip=False, \n",
    "        fill_mode='constant',\n",
    "        cval=0\n",
    ")\n",
    "\n",
    "batches = 0\n",
    "max_batches = 10\n",
    "img_gen = []\n",
    "for x_batch in datagen.flow(img.reshape((1,) + img.shape), batch_size=max_batches):\n",
    "    img_gen.append(x_batch[0])\n",
    "    batches += 1\n",
    "    if batches >= max_batches:\n",
    "        # generator loops indefinetly\n",
    "        break\n",
    "        \n",
    "plot_images(img_gen, rows=10, figsize=(20,16))"
   ]
  }
 ],
 "metadata": {
  "kernelspec": {
   "display_name": "Python 3",
   "language": "python",
   "name": "python3"
  },
  "language_info": {
   "codemirror_mode": {
    "name": "ipython",
    "version": 3
   },
   "file_extension": ".py",
   "mimetype": "text/x-python",
   "name": "python",
   "nbconvert_exporter": "python",
   "pygments_lexer": "ipython3",
   "version": "3.7.4"
  }
 },
 "nbformat": 4,
 "nbformat_minor": 2
}
