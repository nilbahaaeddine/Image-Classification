{
 "cells": [
  {
   "cell_type": "markdown",
   "metadata": {},
   "source": [
    "<div class=\"alert alert-block alert-info\" align=\"center\">\n",
    "    <h1>\n",
    "        Imports\n",
    "    </h1>\n",
    "</div>"
   ]
  },
  {
   "cell_type": "markdown",
   "metadata": {},
   "source": [
    "First, let's import the necessary libraries and classes that we have implemented !"
   ]
  },
  {
   "cell_type": "code",
   "execution_count": null,
   "metadata": {},
   "outputs": [],
   "source": [
    "import numpy as np\n",
    "import time\n",
    "import matplotlib.pyplot as plt\n",
    "\n",
    "from matplotlib.legend_handler import HandlerLine2D\n",
    "from keras.datasets import mnist, fashion_mnist, cifar10\n",
    "\n",
    "from classes.conv import Conv3x3\n",
    "from classes.relu import Relu\n",
    "from classes.maxpool import MaxPool2\n",
    "from classes.dropout import Dropout\n",
    "from classes.flatten import Flatten\n",
    "from classes.dense import Dense\n",
    "from classes.convolutionalneuralnetwork import ConvolutionalNeuralNetwork"
   ]
  },
  {
   "cell_type": "markdown",
   "metadata": {},
   "source": [
    "<div class=\"alert alert-block alert-info\" align=\"center\">\n",
    "    <h1>\n",
    "        Functions\n",
    "    </h1>\n",
    "</div>"
   ]
  },
  {
   "cell_type": "markdown",
   "metadata": {},
   "source": [
    "Here we have declared the necessary functions."
   ]
  },
  {
   "cell_type": "code",
   "execution_count": null,
   "metadata": {},
   "outputs": [],
   "source": [
    "# Display of historical graphs\n",
    "def plot_histories(eta, epochs, cost_history, accuracy_history):\n",
    "    fig, ax = plt.subplots(figsize = (5, 5))\n",
    "    ax.set_ylabel(r'$J(\\theta)$')\n",
    "    ax.set_xlabel('Epochs')\n",
    "    ax.set_title(r\"$\\eta$ :{}\".format(eta))\n",
    "    line1, = ax.plot(range(epochs), cost_history, label = 'Cost')\n",
    "    line2, = ax.plot(range(epochs), accuracy_history, label = 'Accuracy')\n",
    "    plt.legend(handler_map = {line1: HandlerLine2D(numpoints = 4)})\n",
    "\n",
    "# Image display\n",
    "def plot_images(imgs, labels = None, rows = 1, figsize = (20,8), fontsize = 14):\n",
    "    figure = plt.figure(figsize = figsize)\n",
    "    cols = max(1,len(imgs) // rows - 1)\n",
    "    labels_present = False\n",
    "    if type(labels).__module__ == np.__name__:\n",
    "        labels_present = labels.any()\n",
    "    elif labels:\n",
    "        labels_present = True\n",
    "    for i in range(len(imgs)):\n",
    "        subplot = figure.add_subplot(rows, cols+1, i+1)\n",
    "        plt.tick_params(\n",
    "            axis = 'both',\n",
    "            which = 'both',\n",
    "            bottom = 'off',\n",
    "            top = 'off',\n",
    "            left = 'off',\n",
    "            right = 'off',\n",
    "            labelbottom = 'off',\n",
    "            labelleft = 'off')\n",
    "        if labels_present:\n",
    "            subplot.set_title(labels[i], fontsize = fontsize)\n",
    "        plt.imshow(imgs[i][:,:,0], cmap = 'Greys')\n",
    "        \n",
    "    plt.show()\n",
    "\n",
    "# Extract n random samples of each class from the dataset\n",
    "def get_random_sample(number_of_samples, data, labels):\n",
    "    x = []\n",
    "    y = []\n",
    "    for category_number in range(0,10):\n",
    "        # get all samples of a category\n",
    "        train_data_category = data[labels == category_number]\n",
    "        # pick a number of random samples from the category\n",
    "        train_data_category = train_data_category[np.random.randint(train_data_category.shape[0], \n",
    "                                                                    size = number_of_samples), :]\n",
    "        x.extend(train_data_category)\n",
    "        y.append([category_number] * number_of_samples)\n",
    "    \n",
    "    return np.asarray(x).reshape(-1, 28, 28, 1), y"
   ]
  },
  {
   "cell_type": "markdown",
   "metadata": {},
   "source": [
    "<div class=\"alert alert-block alert-info\" align=\"center\">\n",
    "    <h1>\n",
    "        Classification MNIST data\n",
    "    </h1>\n",
    "</div>"
   ]
  },
  {
   "cell_type": "markdown",
   "metadata": {},
   "source": [
    "Here, we'll collect the MNIST data and then we will display some examples."
   ]
  },
  {
   "cell_type": "code",
   "execution_count": null,
   "metadata": {
    "ExecuteTime": {
     "end_time": "2020-05-11T13:44:26.935045Z",
     "start_time": "2020-05-11T13:42:00.266679Z"
    },
    "scrolled": true
   },
   "outputs": [],
   "source": [
    "# Loading data\n",
    "(X_train, y_train), (X_test, y_test) = mnist.load_data()\n",
    "\n",
    "# Taking some images\n",
    "X_train = X_train[0:1200]\n",
    "y_train = y_train[0:1200]\n",
    "X_test = X_test[0:800]\n",
    "y_test = y_test[0:800]\n",
    "\n",
    "# Get 1 example of each classe\n",
    "X_rand, y_rand = get_random_sample(1, X_train, y_train)\n",
    "\n",
    "# Print images\n",
    "plot_images(X_rand)"
   ]
  },
  {
   "cell_type": "markdown",
   "metadata": {},
   "source": [
    "Now we'll create our network and print some informations."
   ]
  },
  {
   "cell_type": "code",
   "execution_count": null,
   "metadata": {},
   "outputs": [],
   "source": [
    "# Creating the network\n",
    "network = ConvolutionalNeuralNetwork()\n",
    "network.addLayer(Conv3x3(8))\n",
    "network.addLayer(Relu())\n",
    "network.addLayer(MaxPool2()) \n",
    "network.addLayer(Dropout(0.5))\n",
    "network.addLayer(Flatten())\n",
    "network.addLayer(Dense(13 * 13 * 8, 10, activation = \"softmax\"))\n",
    "\n",
    "# Show some information of the network\n",
    "network.info()"
   ]
  },
  {
   "cell_type": "markdown",
   "metadata": {},
   "source": [
    "Finally, we'll start learning and testing"
   ]
  },
  {
   "cell_type": "code",
   "execution_count": null,
   "metadata": {
    "scrolled": false
   },
   "outputs": [],
   "source": [
    "print(f'In this example we\\'ll '\n",
    "      f'learn on : {X_train.shape[0]} examples'\n",
    "      f' & test on : {X_test.shape[0]} examples\\n')\n",
    "\n",
    "print(f'\\nLearning...')\n",
    "epochs = 6\n",
    "# Set verbose to False to hide learning's information\n",
    "startTime = time.time()\n",
    "cost_history, accuracy_history = network.fit(X_train, y_train, verbose = True, epochs = epochs)\n",
    "endTime = time.time()\n",
    "print(f'\\tTrain time for {X_train.shape[0]} image : {endTime - startTime:.2f}')\n",
    "\n",
    "print(f'\\nTesting...')\n",
    "accuracy_test = []\n",
    "startTime = time.time()\n",
    "for i in range(len(X_test)):\n",
    "    y_pred = network.predict(X_test[i])\n",
    "    acc_test = network.accuracy(y_pred, y_test[i])\n",
    "    accuracy_test.append(acc_test)\n",
    "endTime = time.time()\n",
    "print(f'\\tTest accuracy : {np.average(accuracy_test)}')\n",
    "print(f'\\tTest time for {X_test.shape[0]} image : {endTime - startTime:.2f}')\n",
    "\n",
    "# History display\n",
    "eta = 0.01\n",
    "plot_histories(eta,epochs,cost_history,accuracy_history)"
   ]
  },
  {
   "cell_type": "markdown",
   "metadata": {},
   "source": [
    "<div class=\"alert alert-block alert-info\" align=\"center\">\n",
    "    <h1>\n",
    "        Classification Fashion-MNIST data\n",
    "    </h1>\n",
    "</div>"
   ]
  },
  {
   "cell_type": "markdown",
   "metadata": {},
   "source": [
    "Here, we'll collect the Fashion-MNIST data and then we will display some examples."
   ]
  },
  {
   "cell_type": "code",
   "execution_count": null,
   "metadata": {},
   "outputs": [],
   "source": [
    "# Loading data\n",
    "((X_train, y_train), (X_test, y_test)) = fashion_mnist.load_data()\n",
    "\n",
    "# Taking some images\n",
    "X_train = X_train[0:1200]\n",
    "y_train = y_train[0:1200]\n",
    "X_test = X_test[0:800]\n",
    "y_test = y_test[0:800]\n",
    "\n",
    "# Get 1 example of each classe\n",
    "X_rand, y_rand = get_random_sample(1, X_train, y_train)\n",
    "\n",
    "# Print images\n",
    "plot_images(X_rand)"
   ]
  },
  {
   "cell_type": "markdown",
   "metadata": {},
   "source": [
    "Now we'll create our network and print some informations."
   ]
  },
  {
   "cell_type": "code",
   "execution_count": null,
   "metadata": {},
   "outputs": [],
   "source": [
    "# Creating the network\n",
    "network = ConvolutionalNeuralNetwork()\n",
    "network.addLayer(Conv3x3(8))\n",
    "network.addLayer(Relu())\n",
    "network.addLayer(MaxPool2())\n",
    "network.addLayer(Dropout(0.5))\n",
    "network.addLayer(Flatten())\n",
    "network.addLayer(Dense(13 * 13 * 8, 10, activation = \"softmax\"))\n",
    "\n",
    "# Show some information of the network\n",
    "network.info()"
   ]
  },
  {
   "cell_type": "markdown",
   "metadata": {},
   "source": [
    "Finally, we'll start learning and testing."
   ]
  },
  {
   "cell_type": "code",
   "execution_count": null,
   "metadata": {
    "ExecuteTime": {
     "end_time": "2020-05-11T13:45:05.389271Z",
     "start_time": "2020-05-11T13:44:33.985697Z"
    },
    "scrolled": false
   },
   "outputs": [],
   "source": [
    "print(f'In this example we\\'ll '\n",
    "      f'learn on : {X_train.shape[0]} examples'\n",
    "      f' & test on : {X_test.shape[0]} examples\\n')\n",
    "\n",
    "print(f'\\nLearning...')\n",
    "epochs = 6\n",
    "# Set verbose to False to hide learning's information\n",
    "startTime = time.time()\n",
    "cost_history, accuracy_history = network.fit(X_train, y_train, verbose = True, epochs = epochs)\n",
    "endTime = time.time()\n",
    "print(f'\\tTrain time for {X_train.shape[0]} image : {endTime - startTime:.2f}')\n",
    "\n",
    "print(f'\\nTesting...')\n",
    "accuracy_test = []\n",
    "startTime = time.time()\n",
    "for i in range(len(X_test)):\n",
    "    y_pred = network.predict(X_test[i])\n",
    "    acc_test = network.accuracy(y_pred, y_test[i])\n",
    "    accuracy_test.append(acc_test)\n",
    "endTime = time.time()\n",
    "print(f'\\tTest accuracy : {np.average(accuracy_test)}')\n",
    "print(f'\\tTest time for {X_test.shape[0]} image : {endTime - startTime:.2f}')\n",
    "\n",
    "# History display\n",
    "eta = 0.01\n",
    "plot_histories(eta,epochs,cost_history,accuracy_history)"
   ]
  },
  {
   "cell_type": "markdown",
   "metadata": {},
   "source": [
    "<div class=\"alert alert-block alert-info\" align=\"center\">\n",
    "    <h1>\n",
    "        Classification CIFAR-10 data\n",
    "    </h1>\n",
    "</div>"
   ]
  },
  {
   "cell_type": "markdown",
   "metadata": {},
   "source": [
    "Here, we'll collect the CIFAR-10 data and then we will display some examples."
   ]
  },
  {
   "cell_type": "code",
   "execution_count": null,
   "metadata": {},
   "outputs": [],
   "source": [
    "# The data, split between train and test sets:\n",
    "(X_train, y_train), (X_test, y_test) = cifar10.load_data()\n",
    "\n",
    "# Taking some images\n",
    "X_train = X_train[0:1200]\n",
    "y_train = y_train[0:1200]\n",
    "X_test = X_test[0:800]\n",
    "y_test = y_test[0:800]\n",
    "\n",
    "# Editing the images\n",
    "X_train = X_train.astype('float32')\n",
    "X_test = X_test.astype('float32')\n",
    "X_train /= 255\n",
    "X_test /= 255\n",
    "\n",
    "# Printing some images\n",
    "plot_images(X_test[0:10])"
   ]
  },
  {
   "cell_type": "markdown",
   "metadata": {},
   "source": [
    "Now we'll create our network and print some informations."
   ]
  },
  {
   "cell_type": "code",
   "execution_count": null,
   "metadata": {},
   "outputs": [],
   "source": [
    "# Creating the network\n",
    "network = ConvolutionalNeuralNetwork()\n",
    "network.addLayer(Conv3x3(8))\n",
    "network.addLayer(Relu())\n",
    "network.addLayer(MaxPool2())\n",
    "network.addLayer(Dropout(0.5))\n",
    "network.addLayer(Flatten())\n",
    "network.addLayer(Dense(1800, 10, activation = \"softmax\"))\n",
    "\n",
    "# Show some information of the network\n",
    "network.info()"
   ]
  },
  {
   "cell_type": "markdown",
   "metadata": {},
   "source": [
    "Finally, we'll start learning and testing."
   ]
  },
  {
   "cell_type": "code",
   "execution_count": null,
   "metadata": {
    "scrolled": false
   },
   "outputs": [],
   "source": [
    "print(f'In this example we\\'ll '\n",
    "      f'learn on : {X_train.shape[0]} examples'\n",
    "      f' & test on : {X_test.shape[0]} examples\\n')\n",
    "\n",
    "print(f'\\nLearning...')\n",
    "epochs = 6\n",
    "# Set verbose to False to hide learning's information\n",
    "startTime = time.time()\n",
    "cost_history, accuracy_history = network.fit(X_train, y_train, verbose = True, epochs = epochs)\n",
    "endTime = time.time()\n",
    "print(f'\\tTrain time for {X_train.shape[0]} image : {endTime - startTime:.2f}')\n",
    "\n",
    "print(f'\\nTesting...')\n",
    "accuracy_test = []\n",
    "startTime = time.time()\n",
    "for i in range(len(X_test)):\n",
    "    y_pred = network.predict(X_test[i])\n",
    "    acc_test = network.accuracy(y_pred, y_test[i])\n",
    "    accuracy_test.append(acc_test)\n",
    "endTime = time.time()\n",
    "print(f'\\tTest accuracy : {np.average(accuracy_test)}')\n",
    "print(f'\\tTest time for {X_test.shape[0]} image : {endTime - startTime:.2f}')\n",
    "\n",
    "# History display\n",
    "eta = 0.01\n",
    "plot_histories(eta,epochs,cost_history,accuracy_history)"
   ]
  }
 ],
 "metadata": {
  "kernelspec": {
   "display_name": "Python 3",
   "language": "python",
   "name": "python3"
  },
  "language_info": {
   "codemirror_mode": {
    "name": "ipython",
    "version": 3
   },
   "file_extension": ".py",
   "mimetype": "text/x-python",
   "name": "python",
   "nbconvert_exporter": "python",
   "pygments_lexer": "ipython3",
   "version": "3.7.4"
  },
  "toc": {
   "base_numbering": 1,
   "nav_menu": {},
   "number_sections": true,
   "sideBar": true,
   "skip_h1_title": false,
   "title_cell": "Table of Contents",
   "title_sidebar": "Contents",
   "toc_cell": false,
   "toc_position": {},
   "toc_section_display": true,
   "toc_window_display": false
  }
 },
 "nbformat": 4,
 "nbformat_minor": 2
}
